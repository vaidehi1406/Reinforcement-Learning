{
  "nbformat": 4,
  "nbformat_minor": 0,
  "metadata": {
    "colab": {
      "provenance": []
    },
    "kernelspec": {
      "name": "python3",
      "display_name": "Python 3"
    },
    "language_info": {
      "name": "python"
    }
  },
  "cells": [
    {
      "cell_type": "code",
      "source": [
        "import numpy as np\n",
        "\n",
        "# Define the environment\n",
        "n_states = 5  # Number of states (locations in the grid)\n",
        "n_actions = 4  # Number of possible actions (up, down, left, right)\n",
        "n_episodes = 1000  # Number of episodes for training\n",
        "\n",
        "# Initialize Q-table with zeros\n",
        "Q = np.zeros((n_states, n_actions))\n",
        "\n",
        "# Set hyperparameters\n",
        "learning_rate = 0.1\n",
        "discount_factor = 0.9\n",
        "exploration_prob = 0.2  # Epsilon-greedy exploration strategy\n",
        "\n",
        "# Print the learned Q-table\n",
        "print(\"Learned Q-table:\")\n",
        "print(Q)\n",
        "\n",
        "# Define the reward matrix\n",
        "# For simplicity, this is a basic matrix with rewards for reaching the goal and penalties for hitting obstacles\n",
        "R = np.array([\n",
        "    [-1, -1, -1, -1, 0],  # Rewards for each state\n",
        "    [-1, -1, -1, 0, -1],\n",
        "    [-1, -1, 0, -1, -1],\n",
        "    [-1, 0, -1, -1, -1],\n",
        "    [0, -1, -1, -1, 1]    # Goal state with reward 1\n",
        "])\n",
        "\n",
        "# Q-learning algorithm\n",
        "for episode in range(n_episodes):\n",
        "    state = np.random.randint(0, n_states)  # Initial state\n",
        "    done = False\n",
        "\n",
        "    while not done:\n",
        "        # Epsilon-greedy exploration strategy\n",
        "        if np.random.rand() < exploration_prob:\n",
        "            action = np.random.randint(0, n_actions)  # Explore\n",
        "        else:\n",
        "            action = np.argmax(Q[state, :])  # Exploit\n",
        "\n",
        "        next_state = action  # In this simple example, the next state is the chosen action\n",
        "        reward = R[state, action]\n",
        "\n",
        "        # Q-value update using the Bellman equation\n",
        "        Q[state, action] += learning_rate * (reward + discount_factor * np.max(Q[next_state, :]) - Q[state, action])\n",
        "\n",
        "        state = next_state\n",
        "\n",
        "        # Check if the episode is done (reached the goal or hit an obstacle)\n",
        "        done = (state == n_states - 1) or (state == 3)  # Goal or obstacle reached\n",
        "\n",
        "# Print the learned R-table\n",
        "print(\"Learned R-table:\")\n",
        "print(R)\n",
        "# Print the learned Q-table\n",
        "print(\"Learned Q-table:\")\n",
        "print(Q)\n",
        "\n",
        "\n"
      ],
      "metadata": {
        "colab": {
          "base_uri": "https://localhost:8080/"
        },
        "id": "Tldo5ZmUqqxH",
        "outputId": "5847092e-9c1e-4eff-ce51-24adb409b0bb"
      },
      "execution_count": null,
      "outputs": [
        {
          "output_type": "stream",
          "name": "stdout",
          "text": [
            "Learned Q-table:\n",
            "[[0. 0. 0. 0.]\n",
            " [0. 0. 0. 0.]\n",
            " [0. 0. 0. 0.]\n",
            " [0. 0. 0. 0.]\n",
            " [0. 0. 0. 0.]]\n",
            "Learned R-table:\n",
            "[[-1 -1 -1 -1  0]\n",
            " [-1 -1 -1  0 -1]\n",
            " [-1 -1  0 -1 -1]\n",
            " [-1  0 -1 -1 -1]\n",
            " [ 0 -1 -1 -1  1]]\n",
            "Learned Q-table:\n",
            "[[-1.80770644 -0.99999998 -0.99999998 -0.99999998]\n",
            " [-1.85622926 -0.93538918 -0.96909685  0.        ]\n",
            " [-1.89999485 -0.99999977  0.         -0.99999995]\n",
            " [-1.50813328  0.         -0.61257951 -0.74581342]\n",
            " [-0.89999891 -0.94185026 -0.94766524 -0.94185026]]\n"
          ]
        }
      ]
    }
  ]
}