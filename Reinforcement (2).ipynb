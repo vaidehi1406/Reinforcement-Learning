{
  "nbformat": 4,
  "nbformat_minor": 0,
  "metadata": {
    "colab": {
      "provenance": []
    },
    "kernelspec": {
      "name": "python3",
      "display_name": "Python 3"
    },
    "language_info": {
      "name": "python"
    }
  },
  "cells": [
    {
      "cell_type": "markdown",
      "source": [
        "**Reinforcement Learning**"
      ],
      "metadata": {
        "id": "wyCzZGkdlOQ8"
      }
    },
    {
      "cell_type": "code",
      "source": [
        "#Libraries\n",
        "import numpy as np"
      ],
      "metadata": {
        "id": "Mrf62094lAfc"
      },
      "execution_count": 2,
      "outputs": []
    },
    {
      "cell_type": "code",
      "source": [
        "# Define the environment\n",
        "n_states = 5  # Number of states (locations in the grid)\n",
        "n_actions = 4  # Number of possible actions (up, down, left, right)\n",
        "n_episodes = 1000  # Number of episodes for training"
      ],
      "metadata": {
        "id": "HrDm-GAglAb3"
      },
      "execution_count": 3,
      "outputs": []
    },
    {
      "cell_type": "code",
      "source": [
        "# Initialize Q-table with zeros\n",
        "Q = np.zeros((n_states, n_actions))\n",
        "\n",
        "# Print the learned Q-table\n",
        "print(\"Learned Q-table:\")\n",
        "print(Q)\n"
      ],
      "metadata": {
        "colab": {
          "base_uri": "https://localhost:8080/"
        },
        "id": "tTvSpCwtlAZI",
        "outputId": "79438e52-8a94-4d89-a221-9f0a5a1edbbb"
      },
      "execution_count": 4,
      "outputs": [
        {
          "output_type": "stream",
          "name": "stdout",
          "text": [
            "Learned Q-table:\n",
            "[[0. 0. 0. 0.]\n",
            " [0. 0. 0. 0.]\n",
            " [0. 0. 0. 0.]\n",
            " [0. 0. 0. 0.]\n",
            " [0. 0. 0. 0.]]\n"
          ]
        }
      ]
    },
    {
      "cell_type": "code",
      "source": [
        "# Set hyperparameters\n",
        "learning_rate = 0.1\n",
        "discount_factor = 0.9\n",
        "exploration_prob = 0.2  # Epsilon-greedy exploration strategy\n"
      ],
      "metadata": {
        "id": "HNV_qeJXlAV5"
      },
      "execution_count": 5,
      "outputs": []
    },
    {
      "cell_type": "code",
      "source": [
        "# Define the reward matrix\n",
        "# For simplicity, this is a basic matrix with rewards for reaching the goal and penalties for hitting obstacles\n",
        "R = np.array([\n",
        "    [0, -1, -1, -1, 0],  # Rewards for each state\n",
        "    [-1, -1, -1, 0, 0],\n",
        "    [-1, -1, 0, -1, -1],\n",
        "    [-1, 0, 0, 0, -1],\n",
        "    [0, 0, -1, 0, 1]    # Goal state with reward 1\n",
        "])\n",
        "\n",
        "# Print the learned R-table\n",
        "print(\"Learned R-table:\")\n",
        "print(R)"
      ],
      "metadata": {
        "colab": {
          "base_uri": "https://localhost:8080/"
        },
        "id": "TV9vZ2qrlmKH",
        "outputId": "a6b10a7d-95ac-4918-a1da-e6c8b29f30fd"
      },
      "execution_count": 8,
      "outputs": [
        {
          "output_type": "stream",
          "name": "stdout",
          "text": [
            "Learned R-table:\n",
            "[[ 0 -1 -1 -1  0]\n",
            " [-1 -1 -1  0  0]\n",
            " [-1 -1  0 -1 -1]\n",
            " [-1  0  0  0 -1]\n",
            " [ 0  0 -1  0  1]]\n"
          ]
        }
      ]
    },
    {
      "cell_type": "code",
      "source": [
        "# Q-learning algorithm\n",
        "for episode in range(n_episodes):\n",
        "    state = np.random.randint(0, n_states)  # Initial state\n",
        "    done = False\n",
        "\n",
        "    while not done:\n",
        "        # Epsilon-greedy exploration strategy\n",
        "        if np.random.rand() < exploration_prob:\n",
        "            action = np.random.randint(0, n_actions)  # Explore\n",
        "        else:\n",
        "            action = np.argmax(Q[state, :])  # Exploit\n",
        "\n",
        "        next_state = action  # In this simple example, the next state is the chosen action\n",
        "        reward = R[state, action]\n",
        "\n",
        "        # Q-value update using the Bellman equation\n",
        "        Q[state, action] += learning_rate * (reward + discount_factor * np.max(Q[next_state, :]) - Q[state, action])\n",
        "\n",
        "        state = next_state\n",
        "\n",
        "        # Check if the episode is done (reached the goal or hit an obstacle)\n",
        "        done = (state == n_states - 1) or (state == 3)  # Goal or obstacle reached\n"
      ],
      "metadata": {
        "id": "1EPJV0qqlmGk"
      },
      "execution_count": 9,
      "outputs": []
    },
    {
      "cell_type": "code",
      "source": [
        "# Print the learned Q-table\n",
        "print(\"Learned Q-table:\")\n",
        "print(Q)"
      ],
      "metadata": {
        "colab": {
          "base_uri": "https://localhost:8080/"
        },
        "id": "--qvxZEalmDv",
        "outputId": "931c90e4-f98f-4eb3-e5de-091ceabe91d6"
      },
      "execution_count": 10,
      "outputs": [
        {
          "output_type": "stream",
          "name": "stdout",
          "text": [
            "Learned Q-table:\n",
            "[[ 0.         -1.         -1.         -1.        ]\n",
            " [-0.999045   -0.9998955  -0.99973028  0.        ]\n",
            " [-1.         -1.          0.         -1.        ]\n",
            " [-0.86491483  0.          0.          0.        ]\n",
            " [ 0.          0.         -0.83322818  0.        ]]\n"
          ]
        }
      ]
    }
  ]
}